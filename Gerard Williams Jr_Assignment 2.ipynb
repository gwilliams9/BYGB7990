{
 "cells": [
  {
   "cell_type": "code",
   "execution_count": 499,
   "metadata": {},
   "outputs": [
    {
     "data": {
      "text/html": [
       "<div>\n",
       "<style scoped>\n",
       "    .dataframe tbody tr th:only-of-type {\n",
       "        vertical-align: middle;\n",
       "    }\n",
       "\n",
       "    .dataframe tbody tr th {\n",
       "        vertical-align: top;\n",
       "    }\n",
       "\n",
       "    .dataframe thead th {\n",
       "        text-align: right;\n",
       "    }\n",
       "</style>\n",
       "<table border=\"1\" class=\"dataframe\">\n",
       "  <thead>\n",
       "    <tr style=\"text-align: right;\">\n",
       "      <th></th>\n",
       "      <th>Movie_Reviews</th>\n",
       "    </tr>\n",
       "  </thead>\n",
       "  <tbody>\n",
       "    <tr>\n",
       "      <th>0</th>\n",
       "      <td>1,\"films adapted from comic books have had ple...</td>\n",
       "    </tr>\n",
       "    <tr>\n",
       "      <th>1</th>\n",
       "      <td>2,\"every now and then a movie comes along from...</td>\n",
       "    </tr>\n",
       "    <tr>\n",
       "      <th>2</th>\n",
       "      <td>3,\"you've got mail works alot better than it d...</td>\n",
       "    </tr>\n",
       "    <tr>\n",
       "      <th>3</th>\n",
       "      <td>4,\"  jaws   is a rare film that grabs your att...</td>\n",
       "    </tr>\n",
       "    <tr>\n",
       "      <th>4</th>\n",
       "      <td>5,\"moviemaking is a lot like being the general...</td>\n",
       "    </tr>\n",
       "  </tbody>\n",
       "</table>\n",
       "</div>"
      ],
      "text/plain": [
       "                                       Movie_Reviews\n",
       "0  1,\"films adapted from comic books have had ple...\n",
       "1  2,\"every now and then a movie comes along from...\n",
       "2  3,\"you've got mail works alot better than it d...\n",
       "3  4,\"  jaws   is a rare film that grabs your att...\n",
       "4  5,\"moviemaking is a lot like being the general..."
      ]
     },
     "execution_count": 499,
     "metadata": {},
     "output_type": "execute_result"
    }
   ],
   "source": [
    "# Gerard Williams Jr - I referenced Lab 2 \"Python Sentiment\" to complete this assignment \n",
    "# The the results from the following python code were referenced within my accompanying report (Word Document)\n",
    "\n",
    "#Read DATA (raw)\n",
    "\n",
    "import pandas as pd\n",
    "\n",
    "# read file\n",
    "df = pd.read_table(\"MovieReview-Sample.csv\",header = None, names = ['Movie_Reviews'])\n",
    "df.head(5)"
   ]
  },
  {
   "cell_type": "code",
   "execution_count": 500,
   "metadata": {},
   "outputs": [],
   "source": [
    "data = df.Movie_Reviews.str.lower()"
   ]
  },
  {
   "cell_type": "code",
   "execution_count": 501,
   "metadata": {},
   "outputs": [],
   "source": [
    "#Dictionary Approach\n",
    "def count_pos_neg(data, positive_dict, negative_dict):\n",
    "# count of positive and negative words that appeared in each message\n",
    "# net count which is calculated by positive count subtracting negative count. \n",
    "    poscnt = []\n",
    "    negcnt = []\n",
    "    netcnt = []\n",
    "\n",
    "    for nrow in range(0,len(data)):\n",
    "        text = data[nrow]\n",
    "        \n",
    "        qa = 0\n",
    "        qb = 0\n",
    "\n",
    "        for word in positive_dict :\n",
    "            if (word in text) :\n",
    "                qa = qa + 1\n",
    "\n",
    "        for word in negative_dict :\n",
    "            if (word in text) :\n",
    "                qb = qb + 1\n",
    "\n",
    "        qc = qa - qb\n",
    "\n",
    "        poscnt.append(qa)\n",
    "        negcnt.append(qb)\n",
    "        netcnt.append(qc)\n",
    "\n",
    "    return (poscnt, negcnt, netcnt)"
   ]
  },
  {
   "cell_type": "code",
   "execution_count": 502,
   "metadata": {},
   "outputs": [
    {
     "name": "stderr",
     "output_type": "stream",
     "text": [
      "[nltk_data] Downloading package opinion_lexicon to\n",
      "[nltk_data]     C:\\Users\\13478\\AppData\\Roaming\\nltk_data...\n",
      "[nltk_data]   Package opinion_lexicon is already up-to-date!\n"
     ]
    },
    {
     "data": {
      "text/plain": [
       "True"
      ]
     },
     "execution_count": 502,
     "metadata": {},
     "output_type": "execute_result"
    }
   ],
   "source": [
    "#Bing Liu's Dictionary\n",
    "\n",
    "#run this line if you never download it before\n",
    "import nltk\n",
    "nltk.download(\"opinion_lexicon\")"
   ]
  },
  {
   "cell_type": "code",
   "execution_count": 503,
   "metadata": {},
   "outputs": [],
   "source": [
    "#import Bing Liu's dictionary\n",
    "from nltk.corpus import opinion_lexicon"
   ]
  },
  {
   "cell_type": "code",
   "execution_count": 504,
   "metadata": {},
   "outputs": [],
   "source": [
    "pos_list_BL=set(opinion_lexicon.positive())\n",
    "neg_list_BL=set(opinion_lexicon.negative())\n",
    "\n",
    "#pos_list_BL - checking positive words\n",
    "#neg_list_BL - checking negative words"
   ]
  },
  {
   "cell_type": "code",
   "execution_count": 505,
   "metadata": {},
   "outputs": [],
   "source": [
    "df['poscnt_BL'], df['negcnt_BL'], df['netcnt_BL'] = count_pos_neg(data, pos_list_BL, neg_list_BL)"
   ]
  },
  {
   "cell_type": "code",
   "execution_count": 506,
   "metadata": {},
   "outputs": [
    {
     "data": {
      "text/html": [
       "<div>\n",
       "<style scoped>\n",
       "    .dataframe tbody tr th:only-of-type {\n",
       "        vertical-align: middle;\n",
       "    }\n",
       "\n",
       "    .dataframe tbody tr th {\n",
       "        vertical-align: top;\n",
       "    }\n",
       "\n",
       "    .dataframe thead th {\n",
       "        text-align: right;\n",
       "    }\n",
       "</style>\n",
       "<table border=\"1\" class=\"dataframe\">\n",
       "  <thead>\n",
       "    <tr style=\"text-align: right;\">\n",
       "      <th></th>\n",
       "      <th>Movie_Reviews</th>\n",
       "      <th>poscnt_BL</th>\n",
       "      <th>negcnt_BL</th>\n",
       "      <th>netcnt_BL</th>\n",
       "    </tr>\n",
       "  </thead>\n",
       "  <tbody>\n",
       "    <tr>\n",
       "      <th>0</th>\n",
       "      <td>1,\"films adapted from comic books have had ple...</td>\n",
       "      <td>16</td>\n",
       "      <td>36</td>\n",
       "      <td>-20</td>\n",
       "    </tr>\n",
       "    <tr>\n",
       "      <th>1</th>\n",
       "      <td>2,\"every now and then a movie comes along from...</td>\n",
       "      <td>21</td>\n",
       "      <td>33</td>\n",
       "      <td>-12</td>\n",
       "    </tr>\n",
       "    <tr>\n",
       "      <th>2</th>\n",
       "      <td>3,\"you've got mail works alot better than it d...</td>\n",
       "      <td>32</td>\n",
       "      <td>28</td>\n",
       "      <td>4</td>\n",
       "    </tr>\n",
       "    <tr>\n",
       "      <th>3</th>\n",
       "      <td>4,\"  jaws   is a rare film that grabs your att...</td>\n",
       "      <td>20</td>\n",
       "      <td>41</td>\n",
       "      <td>-21</td>\n",
       "    </tr>\n",
       "    <tr>\n",
       "      <th>4</th>\n",
       "      <td>5,\"moviemaking is a lot like being the general...</td>\n",
       "      <td>17</td>\n",
       "      <td>24</td>\n",
       "      <td>-7</td>\n",
       "    </tr>\n",
       "  </tbody>\n",
       "</table>\n",
       "</div>"
      ],
      "text/plain": [
       "                                       Movie_Reviews  poscnt_BL  negcnt_BL  \\\n",
       "0  1,\"films adapted from comic books have had ple...         16         36   \n",
       "1  2,\"every now and then a movie comes along from...         21         33   \n",
       "2  3,\"you've got mail works alot better than it d...         32         28   \n",
       "3  4,\"  jaws   is a rare film that grabs your att...         20         41   \n",
       "4  5,\"moviemaking is a lot like being the general...         17         24   \n",
       "\n",
       "   netcnt_BL  \n",
       "0        -20  \n",
       "1        -12  \n",
       "2          4  \n",
       "3        -21  \n",
       "4         -7  "
      ]
     },
     "execution_count": 506,
     "metadata": {},
     "output_type": "execute_result"
    }
   ],
   "source": [
    "df[['Movie_Reviews','poscnt_BL','negcnt_BL','netcnt_BL']].head(5)#shows top 5"
   ]
  },
  {
   "cell_type": "code",
   "execution_count": 534,
   "metadata": {},
   "outputs": [],
   "source": [
    "# Used to extract data to Excel file. I performed the subsequent analysis in excel\n",
    "#I performed precision, recall, & F score in excel (along with ensemble - file entitled: \n",
    "#Assignment 2_Gerard Williams Jr_MovieReview_Sample_Output_FINAL_Excel\n",
    "\n",
    "dataBL = df\n",
    "file_name = 'dataBL.xlsx'\n",
    "dataBL.to_excel(file_name)"
   ]
  },
  {
   "cell_type": "code",
   "execution_count": 507,
   "metadata": {},
   "outputs": [],
   "source": [
    "#LM Dictionary\n",
    "\n",
    "def read_local_dictionary(file):\n",
    "    # create dictionary list\n",
    "    words_dict = []\n",
    "    with open(file, \"r\") as f: \n",
    "        for line in f:\n",
    "            t = line.strip().lower()\n",
    "            words_dict.append(t)\n",
    "    return words_dict"
   ]
  },
  {
   "cell_type": "code",
   "execution_count": 508,
   "metadata": {},
   "outputs": [],
   "source": [
    "pos_list_LM = read_local_dictionary('pos.csv')\n",
    "neg_list_LM = read_local_dictionary('neg.csv')"
   ]
  },
  {
   "cell_type": "code",
   "execution_count": 509,
   "metadata": {},
   "outputs": [],
   "source": [
    "df['poscnt_LM'], df['negcnt_LM'], df['netcnt_LM'] = count_pos_neg(data, pos_list_LM, neg_list_LM)"
   ]
  },
  {
   "cell_type": "code",
   "execution_count": 510,
   "metadata": {},
   "outputs": [
    {
     "data": {
      "text/html": [
       "<div>\n",
       "<style scoped>\n",
       "    .dataframe tbody tr th:only-of-type {\n",
       "        vertical-align: middle;\n",
       "    }\n",
       "\n",
       "    .dataframe tbody tr th {\n",
       "        vertical-align: top;\n",
       "    }\n",
       "\n",
       "    .dataframe thead th {\n",
       "        text-align: right;\n",
       "    }\n",
       "</style>\n",
       "<table border=\"1\" class=\"dataframe\">\n",
       "  <thead>\n",
       "    <tr style=\"text-align: right;\">\n",
       "      <th></th>\n",
       "      <th>Movie_Reviews</th>\n",
       "      <th>poscnt_LM</th>\n",
       "      <th>negcnt_LM</th>\n",
       "      <th>netcnt_LM</th>\n",
       "    </tr>\n",
       "  </thead>\n",
       "  <tbody>\n",
       "    <tr>\n",
       "      <th>0</th>\n",
       "      <td>1,\"films adapted from comic books have had ple...</td>\n",
       "      <td>0</td>\n",
       "      <td>0</td>\n",
       "      <td>0</td>\n",
       "    </tr>\n",
       "    <tr>\n",
       "      <th>1</th>\n",
       "      <td>2,\"every now and then a movie comes along from...</td>\n",
       "      <td>0</td>\n",
       "      <td>0</td>\n",
       "      <td>0</td>\n",
       "    </tr>\n",
       "    <tr>\n",
       "      <th>2</th>\n",
       "      <td>3,\"you've got mail works alot better than it d...</td>\n",
       "      <td>0</td>\n",
       "      <td>0</td>\n",
       "      <td>0</td>\n",
       "    </tr>\n",
       "    <tr>\n",
       "      <th>3</th>\n",
       "      <td>4,\"  jaws   is a rare film that grabs your att...</td>\n",
       "      <td>0</td>\n",
       "      <td>0</td>\n",
       "      <td>0</td>\n",
       "    </tr>\n",
       "    <tr>\n",
       "      <th>4</th>\n",
       "      <td>5,\"moviemaking is a lot like being the general...</td>\n",
       "      <td>0</td>\n",
       "      <td>0</td>\n",
       "      <td>0</td>\n",
       "    </tr>\n",
       "    <tr>\n",
       "      <th>...</th>\n",
       "      <td>...</td>\n",
       "      <td>...</td>\n",
       "      <td>...</td>\n",
       "      <td>...</td>\n",
       "    </tr>\n",
       "    <tr>\n",
       "      <th>1995</th>\n",
       "      <td>1996,\"if anything ,   stigmata   should be tak...</td>\n",
       "      <td>0</td>\n",
       "      <td>0</td>\n",
       "      <td>0</td>\n",
       "    </tr>\n",
       "    <tr>\n",
       "      <th>1996</th>\n",
       "      <td>1997,\"john boorman's   zardoz   is a goofy cin...</td>\n",
       "      <td>0</td>\n",
       "      <td>0</td>\n",
       "      <td>0</td>\n",
       "    </tr>\n",
       "    <tr>\n",
       "      <th>1997</th>\n",
       "      <td>1998,\"the kids in the hall are an acquired tas...</td>\n",
       "      <td>0</td>\n",
       "      <td>0</td>\n",
       "      <td>0</td>\n",
       "    </tr>\n",
       "    <tr>\n",
       "      <th>1998</th>\n",
       "      <td>1999,\"there was a time when john carpenter was...</td>\n",
       "      <td>0</td>\n",
       "      <td>0</td>\n",
       "      <td>0</td>\n",
       "    </tr>\n",
       "    <tr>\n",
       "      <th>1999</th>\n",
       "      <td>2000,\"two party guys bob their heads to haddaw...</td>\n",
       "      <td>0</td>\n",
       "      <td>0</td>\n",
       "      <td>0</td>\n",
       "    </tr>\n",
       "  </tbody>\n",
       "</table>\n",
       "<p>2000 rows × 4 columns</p>\n",
       "</div>"
      ],
      "text/plain": [
       "                                          Movie_Reviews  poscnt_LM  negcnt_LM  \\\n",
       "0     1,\"films adapted from comic books have had ple...          0          0   \n",
       "1     2,\"every now and then a movie comes along from...          0          0   \n",
       "2     3,\"you've got mail works alot better than it d...          0          0   \n",
       "3     4,\"  jaws   is a rare film that grabs your att...          0          0   \n",
       "4     5,\"moviemaking is a lot like being the general...          0          0   \n",
       "...                                                 ...        ...        ...   \n",
       "1995  1996,\"if anything ,   stigmata   should be tak...          0          0   \n",
       "1996  1997,\"john boorman's   zardoz   is a goofy cin...          0          0   \n",
       "1997  1998,\"the kids in the hall are an acquired tas...          0          0   \n",
       "1998  1999,\"there was a time when john carpenter was...          0          0   \n",
       "1999  2000,\"two party guys bob their heads to haddaw...          0          0   \n",
       "\n",
       "      netcnt_LM  \n",
       "0             0  \n",
       "1             0  \n",
       "2             0  \n",
       "3             0  \n",
       "4             0  \n",
       "...         ...  \n",
       "1995          0  \n",
       "1996          0  \n",
       "1997          0  \n",
       "1998          0  \n",
       "1999          0  \n",
       "\n",
       "[2000 rows x 4 columns]"
      ]
     },
     "execution_count": 510,
     "metadata": {},
     "output_type": "execute_result"
    }
   ],
   "source": [
    "df[['Movie_Reviews','poscnt_LM','negcnt_LM','netcnt_LM']]\n",
    "\n",
    "#Shows Zero For Everything "
   ]
  },
  {
   "cell_type": "code",
   "execution_count": 511,
   "metadata": {},
   "outputs": [
    {
     "name": "stdout",
     "output_type": "stream",
     "text": [
      "Requirement already satisfied: textblob in c:\\users\\13478\\anaconda3\\lib\\site-packages (0.17.1)\n",
      "Requirement already satisfied: nltk>=3.1; python_version >= \"3\" in c:\\users\\13478\\anaconda3\\lib\\site-packages (from textblob) (3.5)\n",
      "Requirement already satisfied: click in c:\\users\\13478\\anaconda3\\lib\\site-packages (from nltk>=3.1; python_version >= \"3\"->textblob) (7.1.2)\n",
      "Requirement already satisfied: joblib in c:\\users\\13478\\anaconda3\\lib\\site-packages (from nltk>=3.1; python_version >= \"3\"->textblob) (0.16.0)\n",
      "Requirement already satisfied: tqdm in c:\\users\\13478\\anaconda3\\lib\\site-packages (from nltk>=3.1; python_version >= \"3\"->textblob) (4.47.0)\n",
      "Requirement already satisfied: regex in c:\\users\\13478\\anaconda3\\lib\\site-packages (from nltk>=3.1; python_version >= \"3\"->textblob) (2020.6.8)\n"
     ]
    }
   ],
   "source": [
    "#Package Dictionary\n",
    "\n",
    "#TextBlob\n",
    "\n",
    "#run this line if you never download it before\n",
    "!pip install textblob"
   ]
  },
  {
   "cell_type": "code",
   "execution_count": 512,
   "metadata": {},
   "outputs": [],
   "source": [
    "from textblob import TextBlob"
   ]
  },
  {
   "cell_type": "code",
   "execution_count": 513,
   "metadata": {},
   "outputs": [],
   "source": [
    "df[\"score_TextBlob\"] = df[\"Movie_Reviews\"].map(lambda x:TextBlob(x).sentiment.polarity)"
   ]
  },
  {
   "cell_type": "code",
   "execution_count": 514,
   "metadata": {},
   "outputs": [
    {
     "data": {
      "text/html": [
       "<div>\n",
       "<style scoped>\n",
       "    .dataframe tbody tr th:only-of-type {\n",
       "        vertical-align: middle;\n",
       "    }\n",
       "\n",
       "    .dataframe tbody tr th {\n",
       "        vertical-align: top;\n",
       "    }\n",
       "\n",
       "    .dataframe thead th {\n",
       "        text-align: right;\n",
       "    }\n",
       "</style>\n",
       "<table border=\"1\" class=\"dataframe\">\n",
       "  <thead>\n",
       "    <tr style=\"text-align: right;\">\n",
       "      <th></th>\n",
       "      <th>Movie_Reviews</th>\n",
       "      <th>score_TextBlob</th>\n",
       "    </tr>\n",
       "  </thead>\n",
       "  <tbody>\n",
       "    <tr>\n",
       "      <th>0</th>\n",
       "      <td>1,\"films adapted from comic books have had ple...</td>\n",
       "      <td>-0.061036</td>\n",
       "    </tr>\n",
       "    <tr>\n",
       "      <th>1</th>\n",
       "      <td>2,\"every now and then a movie comes along from...</td>\n",
       "      <td>0.088390</td>\n",
       "    </tr>\n",
       "    <tr>\n",
       "      <th>2</th>\n",
       "      <td>3,\"you've got mail works alot better than it d...</td>\n",
       "      <td>0.081941</td>\n",
       "    </tr>\n",
       "    <tr>\n",
       "      <th>3</th>\n",
       "      <td>4,\"  jaws   is a rare film that grabs your att...</td>\n",
       "      <td>0.066679</td>\n",
       "    </tr>\n",
       "    <tr>\n",
       "      <th>4</th>\n",
       "      <td>5,\"moviemaking is a lot like being the general...</td>\n",
       "      <td>0.054987</td>\n",
       "    </tr>\n",
       "  </tbody>\n",
       "</table>\n",
       "</div>"
      ],
      "text/plain": [
       "                                       Movie_Reviews  score_TextBlob\n",
       "0  1,\"films adapted from comic books have had ple...       -0.061036\n",
       "1  2,\"every now and then a movie comes along from...        0.088390\n",
       "2  3,\"you've got mail works alot better than it d...        0.081941\n",
       "3  4,\"  jaws   is a rare film that grabs your att...        0.066679\n",
       "4  5,\"moviemaking is a lot like being the general...        0.054987"
      ]
     },
     "execution_count": 514,
     "metadata": {},
     "output_type": "execute_result"
    }
   ],
   "source": [
    "df[[\"Movie_Reviews\",\"score_TextBlob\"]].head(5)"
   ]
  },
  {
   "cell_type": "code",
   "execution_count": 515,
   "metadata": {},
   "outputs": [
    {
     "name": "stdout",
     "output_type": "stream",
     "text": [
      "Requirement already satisfied: vadersentiment in c:\\users\\13478\\anaconda3\\lib\\site-packages (3.3.2)\n",
      "Requirement already satisfied: requests in c:\\users\\13478\\anaconda3\\lib\\site-packages (from vadersentiment) (2.24.0)\n",
      "Requirement already satisfied: chardet<4,>=3.0.2 in c:\\users\\13478\\anaconda3\\lib\\site-packages (from requests->vadersentiment) (3.0.4)\n",
      "Requirement already satisfied: urllib3!=1.25.0,!=1.25.1,<1.26,>=1.21.1 in c:\\users\\13478\\anaconda3\\lib\\site-packages (from requests->vadersentiment) (1.25.9)\n",
      "Requirement already satisfied: idna<3,>=2.5 in c:\\users\\13478\\anaconda3\\lib\\site-packages (from requests->vadersentiment) (2.10)\n",
      "Requirement already satisfied: certifi>=2017.4.17 in c:\\users\\13478\\anaconda3\\lib\\site-packages (from requests->vadersentiment) (2020.6.20)\n"
     ]
    }
   ],
   "source": [
    "#Vader\n",
    "\n",
    "#(Valence Aware Dictionary and Sentiment Reasoner)\n",
    "\n",
    "#run this line if you never download it before\n",
    "!pip install vadersentiment"
   ]
  },
  {
   "cell_type": "code",
   "execution_count": 516,
   "metadata": {},
   "outputs": [],
   "source": [
    "from vaderSentiment.vaderSentiment import SentimentIntensityAnalyzer"
   ]
  },
  {
   "cell_type": "code",
   "execution_count": 517,
   "metadata": {},
   "outputs": [],
   "source": [
    "analyzer = SentimentIntensityAnalyzer()\n",
    "scores = [analyzer.polarity_scores(sentence) for sentence in data]"
   ]
  },
  {
   "cell_type": "code",
   "execution_count": 518,
   "metadata": {},
   "outputs": [],
   "source": [
    "# scores\n",
    "\n",
    "neg_s = [i[\"neg\"] for i in scores]\n",
    "neu_s = [i[\"neu\"] for i in scores]\n",
    "pos_s = [i[\"pos\"] for i in scores]\n",
    "compound_s = [i[\"compound\"] for i in scores]"
   ]
  },
  {
   "cell_type": "code",
   "execution_count": 519,
   "metadata": {},
   "outputs": [],
   "source": [
    "df['negscore_Vader'], df['neuscore_Vader'], df['posscore_Vader'], df['compound_Vader'] = neg_s, neu_s, pos_s, compound_s"
   ]
  },
  {
   "cell_type": "code",
   "execution_count": 520,
   "metadata": {},
   "outputs": [
    {
     "data": {
      "text/html": [
       "<div>\n",
       "<style scoped>\n",
       "    .dataframe tbody tr th:only-of-type {\n",
       "        vertical-align: middle;\n",
       "    }\n",
       "\n",
       "    .dataframe tbody tr th {\n",
       "        vertical-align: top;\n",
       "    }\n",
       "\n",
       "    .dataframe thead th {\n",
       "        text-align: right;\n",
       "    }\n",
       "</style>\n",
       "<table border=\"1\" class=\"dataframe\">\n",
       "  <thead>\n",
       "    <tr style=\"text-align: right;\">\n",
       "      <th></th>\n",
       "      <th>Movie_Reviews</th>\n",
       "      <th>negscore_Vader</th>\n",
       "      <th>neuscore_Vader</th>\n",
       "      <th>posscore_Vader</th>\n",
       "      <th>compound_Vader</th>\n",
       "    </tr>\n",
       "  </thead>\n",
       "  <tbody>\n",
       "    <tr>\n",
       "      <th>0</th>\n",
       "      <td>1,\"films adapted from comic books have had ple...</td>\n",
       "      <td>0.138</td>\n",
       "      <td>0.802</td>\n",
       "      <td>0.060</td>\n",
       "      <td>-0.9905</td>\n",
       "    </tr>\n",
       "    <tr>\n",
       "      <th>1</th>\n",
       "      <td>2,\"every now and then a movie comes along from...</td>\n",
       "      <td>0.069</td>\n",
       "      <td>0.833</td>\n",
       "      <td>0.098</td>\n",
       "      <td>0.8319</td>\n",
       "    </tr>\n",
       "    <tr>\n",
       "      <th>2</th>\n",
       "      <td>3,\"you've got mail works alot better than it d...</td>\n",
       "      <td>0.075</td>\n",
       "      <td>0.765</td>\n",
       "      <td>0.160</td>\n",
       "      <td>0.9887</td>\n",
       "    </tr>\n",
       "    <tr>\n",
       "      <th>3</th>\n",
       "      <td>4,\"  jaws   is a rare film that grabs your att...</td>\n",
       "      <td>0.085</td>\n",
       "      <td>0.806</td>\n",
       "      <td>0.109</td>\n",
       "      <td>0.9373</td>\n",
       "    </tr>\n",
       "    <tr>\n",
       "      <th>4</th>\n",
       "      <td>5,\"moviemaking is a lot like being the general...</td>\n",
       "      <td>0.037</td>\n",
       "      <td>0.849</td>\n",
       "      <td>0.114</td>\n",
       "      <td>0.9819</td>\n",
       "    </tr>\n",
       "  </tbody>\n",
       "</table>\n",
       "</div>"
      ],
      "text/plain": [
       "                                       Movie_Reviews  negscore_Vader  \\\n",
       "0  1,\"films adapted from comic books have had ple...           0.138   \n",
       "1  2,\"every now and then a movie comes along from...           0.069   \n",
       "2  3,\"you've got mail works alot better than it d...           0.075   \n",
       "3  4,\"  jaws   is a rare film that grabs your att...           0.085   \n",
       "4  5,\"moviemaking is a lot like being the general...           0.037   \n",
       "\n",
       "   neuscore_Vader  posscore_Vader  compound_Vader  \n",
       "0           0.802           0.060         -0.9905  \n",
       "1           0.833           0.098          0.8319  \n",
       "2           0.765           0.160          0.9887  \n",
       "3           0.806           0.109          0.9373  \n",
       "4           0.849           0.114          0.9819  "
      ]
     },
     "execution_count": 520,
     "metadata": {},
     "output_type": "execute_result"
    }
   ],
   "source": [
    "df[['Movie_Reviews','negscore_Vader','neuscore_Vader','posscore_Vader','compound_Vader']].head(5)"
   ]
  },
  {
   "cell_type": "code",
   "execution_count": 521,
   "metadata": {},
   "outputs": [
    {
     "name": "stderr",
     "output_type": "stream",
     "text": [
      "[nltk_data] Downloading package vader_lexicon to\n",
      "[nltk_data]     C:\\Users\\13478\\AppData\\Roaming\\nltk_data...\n",
      "[nltk_data]   Package vader_lexicon is already up-to-date!\n"
     ]
    },
    {
     "data": {
      "text/plain": [
       "True"
      ]
     },
     "execution_count": 521,
     "metadata": {},
     "output_type": "execute_result"
    }
   ],
   "source": [
    "#Vader in NLTK\n",
    "\n",
    "nltk.download('vader_lexicon')"
   ]
  },
  {
   "cell_type": "code",
   "execution_count": 522,
   "metadata": {},
   "outputs": [],
   "source": [
    "from nltk.sentiment import SentimentIntensityAnalyzer"
   ]
  },
  {
   "cell_type": "code",
   "execution_count": 523,
   "metadata": {},
   "outputs": [],
   "source": [
    "sia = SentimentIntensityAnalyzer()"
   ]
  },
  {
   "cell_type": "code",
   "execution_count": 524,
   "metadata": {},
   "outputs": [],
   "source": [
    "scores = [sia.polarity_scores(sentence) for sentence in data]"
   ]
  },
  {
   "cell_type": "code",
   "execution_count": 525,
   "metadata": {},
   "outputs": [],
   "source": [
    "# scores\n",
    "\n",
    "neg_s_n = [i[\"neg\"] for i in scores]\n",
    "neu_s_n = [i[\"neu\"] for i in scores]\n",
    "pos_s_n = [i[\"pos\"] for i in scores]\n",
    "compound_s_n = [i[\"compound\"] for i in scores]"
   ]
  },
  {
   "cell_type": "code",
   "execution_count": 526,
   "metadata": {},
   "outputs": [],
   "source": [
    "df['negscore_NLTK'], df['neuscore_NLTK'], df['posscore_NLTK'], df['compound_NLTK'] = neg_s_n, neu_s_n, pos_s_n, compound_s_n"
   ]
  },
  {
   "cell_type": "code",
   "execution_count": 527,
   "metadata": {},
   "outputs": [
    {
     "data": {
      "text/html": [
       "<div>\n",
       "<style scoped>\n",
       "    .dataframe tbody tr th:only-of-type {\n",
       "        vertical-align: middle;\n",
       "    }\n",
       "\n",
       "    .dataframe tbody tr th {\n",
       "        vertical-align: top;\n",
       "    }\n",
       "\n",
       "    .dataframe thead th {\n",
       "        text-align: right;\n",
       "    }\n",
       "</style>\n",
       "<table border=\"1\" class=\"dataframe\">\n",
       "  <thead>\n",
       "    <tr style=\"text-align: right;\">\n",
       "      <th></th>\n",
       "      <th>Movie_Reviews</th>\n",
       "      <th>negscore_NLTK</th>\n",
       "      <th>neuscore_NLTK</th>\n",
       "      <th>posscore_NLTK</th>\n",
       "      <th>compound_NLTK</th>\n",
       "    </tr>\n",
       "  </thead>\n",
       "  <tbody>\n",
       "    <tr>\n",
       "      <th>0</th>\n",
       "      <td>1,\"films adapted from comic books have had ple...</td>\n",
       "      <td>0.160</td>\n",
       "      <td>0.769</td>\n",
       "      <td>0.070</td>\n",
       "      <td>-0.9905</td>\n",
       "    </tr>\n",
       "    <tr>\n",
       "      <th>1</th>\n",
       "      <td>2,\"every now and then a movie comes along from...</td>\n",
       "      <td>0.082</td>\n",
       "      <td>0.803</td>\n",
       "      <td>0.115</td>\n",
       "      <td>0.8031</td>\n",
       "    </tr>\n",
       "    <tr>\n",
       "      <th>2</th>\n",
       "      <td>3,\"you've got mail works alot better than it d...</td>\n",
       "      <td>0.080</td>\n",
       "      <td>0.735</td>\n",
       "      <td>0.185</td>\n",
       "      <td>0.9900</td>\n",
       "    </tr>\n",
       "    <tr>\n",
       "      <th>3</th>\n",
       "      <td>4,\"  jaws   is a rare film that grabs your att...</td>\n",
       "      <td>0.098</td>\n",
       "      <td>0.776</td>\n",
       "      <td>0.126</td>\n",
       "      <td>0.9404</td>\n",
       "    </tr>\n",
       "    <tr>\n",
       "      <th>4</th>\n",
       "      <td>5,\"moviemaking is a lot like being the general...</td>\n",
       "      <td>0.042</td>\n",
       "      <td>0.828</td>\n",
       "      <td>0.129</td>\n",
       "      <td>0.9819</td>\n",
       "    </tr>\n",
       "  </tbody>\n",
       "</table>\n",
       "</div>"
      ],
      "text/plain": [
       "                                       Movie_Reviews  negscore_NLTK  \\\n",
       "0  1,\"films adapted from comic books have had ple...          0.160   \n",
       "1  2,\"every now and then a movie comes along from...          0.082   \n",
       "2  3,\"you've got mail works alot better than it d...          0.080   \n",
       "3  4,\"  jaws   is a rare film that grabs your att...          0.098   \n",
       "4  5,\"moviemaking is a lot like being the general...          0.042   \n",
       "\n",
       "   neuscore_NLTK  posscore_NLTK  compound_NLTK  \n",
       "0          0.769          0.070        -0.9905  \n",
       "1          0.803          0.115         0.8031  \n",
       "2          0.735          0.185         0.9900  \n",
       "3          0.776          0.126         0.9404  \n",
       "4          0.828          0.129         0.9819  "
      ]
     },
     "execution_count": 527,
     "metadata": {},
     "output_type": "execute_result"
    }
   ],
   "source": [
    "df[['Movie_Reviews','negscore_NLTK','neuscore_NLTK','posscore_NLTK','compound_NLTK']].head(5)"
   ]
  },
  {
   "cell_type": "code",
   "execution_count": 528,
   "metadata": {},
   "outputs": [
    {
     "name": "stdout",
     "output_type": "stream",
     "text": [
      "Requirement already satisfied: gensim in c:\\users\\13478\\anaconda3\\lib\\site-packages (4.1.2)\n",
      "Requirement already satisfied: smart-open>=1.8.1 in c:\\users\\13478\\anaconda3\\lib\\site-packages (from gensim) (5.2.1)\n",
      "Requirement already satisfied: Cython==0.29.23 in c:\\users\\13478\\anaconda3\\lib\\site-packages (from gensim) (0.29.23)\n",
      "Requirement already satisfied: numpy>=1.17.0 in c:\\users\\13478\\anaconda3\\lib\\site-packages (from gensim) (1.18.5)\n",
      "Requirement already satisfied: scipy>=0.18.1 in c:\\users\\13478\\anaconda3\\lib\\site-packages (from gensim) (1.5.0)\n"
     ]
    }
   ],
   "source": [
    "from sklearn import datasets\n",
    "import pandas as pd\n",
    "from sklearn.linear_model import LogisticRegression\n",
    "from sklearn.model_selection import train_test_split\n",
    "from sklearn.metrics import precision_recall_curve\n",
    "from sklearn.metrics import plot_precision_recall_curve\n",
    "from sklearn.metrics import precision_score\n",
    "from sklearn.metrics import recall_score\n",
    "import matplotlib.pyplot as plt\n",
    " \n",
    "!pip install gensim\n",
    "import matplotlib.pyplot as plt\n",
    "import re\n",
    "import os\n",
    "import pandas as pd\n",
    "import numpy as np\n",
    "\n",
    "import nltk\n",
    "from nltk.tokenize import word_tokenize\n",
    "from nltk import PorterStemmer\n",
    "from nltk import WordNetLemmatizer\n",
    "from nltk.corpus import stopwords\n",
    "\n",
    "from sklearn.feature_extraction.text import CountVectorizer\n",
    "from sklearn.model_selection import train_test_split\n",
    "from sklearn.feature_extraction.text import TfidfVectorizer\n",
    "from sklearn import metrics\n",
    "\n",
    "import gensim"
   ]
  },
  {
   "cell_type": "code",
   "execution_count": 530,
   "metadata": {},
   "outputs": [],
   "source": [
    "#Ensemble Notes"
   ]
  },
  {
   "cell_type": "code",
   "execution_count": 531,
   "metadata": {},
   "outputs": [],
   "source": [
    "#Notes from speaking with the TA\n",
    "#from sklearn.ensemble import VotingClassifier\n",
    "#Sum up all columns from BL, Textblob, and Vader (the output from Part A)\n",
    "#If the majoirty of the reviews summed are positive then we treat the review as positive \n",
    "#You can use the threshold of 2 or 1"
   ]
  },
  {
   "cell_type": "code",
   "execution_count": 540,
   "metadata": {},
   "outputs": [
    {
     "name": "stderr",
     "output_type": "stream",
     "text": [
      "IOPub data rate exceeded.\n",
      "The notebook server will temporarily stop sending output\n",
      "to the client in order to avoid crashing it.\n",
      "To change this limit, set the config variable\n",
      "`--NotebookApp.iopub_data_rate_limit`.\n",
      "\n",
      "Current values:\n",
      "NotebookApp.iopub_data_rate_limit=1000000.0 (bytes/sec)\n",
      "NotebookApp.rate_limit_window=3.0 (secs)\n",
      "\n"
     ]
    }
   ],
   "source": [
    "#df = pd.read_table(\"MovieReview-Sample_Output_WS.csv\",header = None)\n",
    "#df.head(5)\n",
    "\n",
    "\n",
    "#Struggled to read in my csv file \"MovieReview-Sample_Output_WS.csv\" - searched for the best method, \n",
    "#but was unable to pull in more then first two columns\n",
    "\n",
    "#import csv\n",
    "#file = open(\"MovieReview-Sample_Output_WS.csv\")\n",
    "#csvreader = csv.reader(file)\n",
    "#header = next(csvreader)\n",
    "#print(header)\n",
    "#rows = []\n",
    "#for row in csvreader:\n",
    "    #rows.append(row)\n",
    "#print(rows)\n",
    "\n",
    "#https://www.analyticsvidhya.com/blog/2021/08/python-tutorial-working-with-csv-file-for-data-science/\n"
   ]
  },
  {
   "cell_type": "code",
   "execution_count": 532,
   "metadata": {},
   "outputs": [],
   "source": [
    "# define a function to evaluate our classification models based on four metrics\n",
    "# This defined function is also useful in other cases. This is comparing test_y and pred_y. \n",
    "# Both contain 1s and 0s.\n",
    "\n",
    "#MovieReview-Sample_Output_WS --> my file\n",
    "\n",
    "\n",
    "\n",
    "#def get_metrics(true_labels, predicted_labels):\n",
    "    \n",
    "   # print ('Accuracy:', np.round(                                                    \n",
    "                        #metrics.accuracy_score(true_labels, \n",
    "                                              # predicted_labels),\n",
    "                       # 2))\n",
    "    #print ('Precision:', np.round(\n",
    "                        #metrics.precision_score(true_labels, \n",
    "                                               #predicted_labels),\n",
    "                        #2))\n",
    "   # print ('Recall:', np.round(\n",
    "                       # metrics.recall_score(true_labels, \n",
    "                                              # predicted_labels),\n",
    "                        #2))\n",
    "   # print ('F1 Score:', np.round(\n",
    "                        #metrics.f1_score(true_labels, \n",
    "                                              # predicted_labels),\n",
    "                       # 2))"
   ]
  },
  {
   "cell_type": "code",
   "execution_count": 533,
   "metadata": {},
   "outputs": [],
   "source": [
    "# Notes from speaking with the TA\n",
    "\n",
    "# For the true_labels, it will be the label column in the movie dataset.\n",
    "# As for the predicted_labels, this depends on the result of each different method.\n",
    "# Take LM dictionary, for example, if the net count is > 0, I will label this as 1 (positive)."
   ]
  },
  {
   "cell_type": "code",
   "execution_count": null,
   "metadata": {},
   "outputs": [],
   "source": []
  },
  {
   "cell_type": "code",
   "execution_count": null,
   "metadata": {},
   "outputs": [],
   "source": []
  }
 ],
 "metadata": {
  "kernelspec": {
   "display_name": "Python 3",
   "language": "python",
   "name": "python3"
  },
  "language_info": {
   "codemirror_mode": {
    "name": "ipython",
    "version": 3
   },
   "file_extension": ".py",
   "mimetype": "text/x-python",
   "name": "python",
   "nbconvert_exporter": "python",
   "pygments_lexer": "ipython3",
   "version": "3.8.3"
  }
 },
 "nbformat": 4,
 "nbformat_minor": 4
}
